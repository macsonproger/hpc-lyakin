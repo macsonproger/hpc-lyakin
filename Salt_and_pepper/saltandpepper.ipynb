{
  "cells": [
    {
      "cell_type": "code",
      "execution_count": 33,
      "metadata": {
        "id": "IYEMPGMCkbWq"
      },
      "outputs": [],
      "source": [
        "import numpy as np\n",
        "from PIL import Image\n",
        "import time\n",
        "import pandas as pd\n",
        "import cupy as cp\n",
        "from scipy.signal import medfilt2d"
      ]
    },
    {
      "cell_type": "code",
      "execution_count": null,
      "metadata": {
        "id": "UXseDmQZkbWs"
      },
      "outputs": [],
      "source": [
        "img = Image.open('Noise_salt_and_pepper.bmp')\n",
        "arr = cp.array(img)\n",
        "print(arr.shape)"
      ]
    },
    {
      "cell_type": "code",
      "source": [
        "def init(matrix_size: tuple, matrix: cp.ndarray, pars: dict):\n",
        "    add_kernel = cp.RawKernel(r'''\n",
        "            extern \"C\"\n",
        "            __global__ void saltandpepper(unsigned char* input, unsigned char* output, int width, int height) {\n",
        "                int x =  threadIdx.x + blockIdx.x * blockDim.x;\n",
        "                int y = threadIdx.y + blockIdx.y * blockDim.y;\n",
        "\n",
        "                if (x < width && y < height) {\n",
        "                    unsigned char window[9];\n",
        "                    int k = 0;\n",
        "\n",
        "                    for (int i = -1; i <= 1; i++) {\n",
        "                        for (int j = -1; j <= 1; j++) {\n",
        "                            int nx = x + i;\n",
        "                            int ny = y + j;\n",
        "\n",
        "                            if (nx >= 0 && nx < width && ny >= 0 && ny < height) {\n",
        "                                window[k] = input[nx + ny * width];\n",
        "                            } else {\n",
        "                                window[k] = 0;\n",
        "                            }\n",
        "\n",
        "                            k++;\n",
        "                        }\n",
        "                    }\n",
        "\n",
        "                    for (int i = 0; i < 9; i++) {\n",
        "                        for (int j = i + 1; j < 9; j++) {\n",
        "                            if (window[i] > window[j]) {\n",
        "                                unsigned char temp = window[i];\n",
        "                                window[i] = window[j];\n",
        "                                window[j] = temp;\n",
        "                            }\n",
        "                        }\n",
        "                    }\n",
        "\n",
        "                    output[x + y * width] = window[4];\n",
        "                }\n",
        "            }\n",
        "        ''',\n",
        "        \"saltandpepper\")\n",
        "    shape = matrix_size\n",
        "    matrix_scipy = cp.asarray(matrix)\n",
        "    matrix_func = cp.asarray(matrix)\n",
        "    matrix = cp.asarray(matrix.flatten())\n",
        "    params = pars\n",
        "    result = cp.zeros((shape[0] * shape[1]), dtype=cp.uint8)\n",
        "    return add_kernel, shape, matrix, matrix_scipy, matrix_func, params, result\n",
        "\n",
        "\n",
        "def salt_and_pepper(matrix_func, shape, filter_size):\n",
        "    output = np.zeros(shape, dtype=np.uint8)\n",
        "    window = []\n",
        "    indexer = filter_size // 2\n",
        "    for i in range(shape[0]):\n",
        "        for j in range(shape[1]):\n",
        "            for z in range(filter_size):\n",
        "                if i + z - indexer < 0 or i + z - indexer > shape[0] - 1:\n",
        "                    for c in range(filter_size):\n",
        "                        window.append(0)\n",
        "                else:\n",
        "                    if j + z - indexer < 0 or j + indexer > shape[1] - 1:\n",
        "                        window.append(0)\n",
        "                    else:\n",
        "                        for k in range(filter_size):\n",
        "                            if j + k - indexer < 0 or j + k - indexer > shape[0] - 1:\n",
        "                                window.append(0)\n",
        "                            else:\n",
        "                                window.append(matrix_func[i + z - indexer][j + k - indexer])\n",
        "            window.sort()\n",
        "            output[i][j] = window[len(window) // 2]\n",
        "            window = []\n",
        "    return output\n",
        "\n",
        "\n",
        "def result(add_kernel, params, result, shape, matrix, matrix_scipy, matrix_func):\n",
        "    gpustart = time.perf_counter()\n",
        "    result_gpu = add_kernel((params[\"blockX\"], params[\"blockY\"]),(params[\"gridX\"], params[\"gridY\"]),(matrix, result,shape[1], shape[0]))\n",
        "    gpuend = time.perf_counter()\n",
        "\n",
        "    scipystart = time.perf_counter()\n",
        "    result_scipy = medfilt2d(matrix_scipy.get(), kernel_size=3)\n",
        "    scipyend = time.perf_counter()\n",
        "\n",
        "    funcstart = time.perf_counter()\n",
        "    result_cpu_func = salt_and_pepper(matrix_func, shape, filter_size=3)\n",
        "    funcend = time.perf_counter()\n",
        "\n",
        "    img_gpu = Image.fromarray(result.get().reshape(shape))\n",
        "    img_scipy = Image.fromarray(result_scipy)\n",
        "    img_func = Image.fromarray(result_cpu_func)\n",
        "\n",
        "    img_gpu.save('gpuim.bmp')\n",
        "    img_scipy.save('scipyim.bmp')\n",
        "    img_func.save('funcim.bmp')\n",
        "\n",
        "    print(f'параметры: {str(params)}')\n",
        "\n",
        "    return  (gpuend - gpustart), (scipyend - scipystart), (funcend - funcstart)"
      ],
      "metadata": {
        "id": "1YgDZ8u0c2Ml"
      },
      "execution_count": 78,
      "outputs": []
    },
    {
      "cell_type": "code",
      "source": [
        "size = arr.shape\n",
        "block = (32, 32)\n",
        "grid = (round((size[1] + block[0] - 1) / block[0]), round((size[0] + block[1] - 1) / block[1]))\n",
        "add_kernel, shape, matrix, matrix_scipy, matrix_func, params, result = init(size, arr, {\"blockX\": block[0],\"blockY\": block[1],\"gridX\": grid[0],\"gridY\": grid[1],})\n",
        "timegpu,timescipy,timefunc = result(add_kernel, params, result, shape, matrix, matrix_scipy, matrix_func)"
      ],
      "metadata": {
        "colab": {
          "base_uri": "https://localhost:8080/"
        },
        "id": "koai8JYNwg7Q",
        "outputId": "390378b8-d31a-43a1-ac76-3a2bf8fc23a4"
      },
      "execution_count": 83,
      "outputs": [
        {
          "output_type": "stream",
          "name": "stdout",
          "text": [
            "параметры: {'blockX': 16, 'blockY': 16, 'gridX': 21, 'gridY': 28}\n"
          ]
        }
      ]
    },
    {
      "cell_type": "code",
      "source": [
        "print(f'gpu time: {timegpu} c')\n",
        "print(f'func time: {timefunc} c')\n",
        "print(f'scipy time: {timescipy} c')\n",
        "print(f'gpu vs func: {timefunc/timegpu} раз')\n",
        "print(f'gpu vs scipy: {timescipy/timegpu} раз')\n",
        "print(f'scipy vs func: {timefunc/timescipy} раз')"
      ],
      "metadata": {
        "colab": {
          "base_uri": "https://localhost:8080/"
        },
        "id": "f4r4ZcYk3drr",
        "outputId": "046a8916-d45e-4de7-c287-6c059e354c55"
      },
      "execution_count": 85,
      "outputs": [
        {
          "output_type": "stream",
          "name": "stdout",
          "text": [
            "gpu time: 0.00011155099946336122 c\n",
            "func time: 110.48865801100055 c\n",
            "scipy time: 0.013824513000145089 c\n",
            "gpu vs func: 990476.6299049647 раз\n",
            "gpu vs scipy: 123.92997881373292 раз\n",
            "scipy vs func: 7992.227864362453 раз\n"
          ]
        }
      ]
    }
  ],
  "metadata": {
    "kernelspec": {
      "display_name": "Python 3",
      "name": "python3"
    },
    "language_info": {
      "codemirror_mode": {
        "name": "ipython",
        "version": 3
      },
      "file_extension": ".py",
      "mimetype": "text/x-python",
      "name": "python",
      "nbconvert_exporter": "python",
      "pygments_lexer": "ipython3",
      "version": "3.11.1"
    },
    "colab": {
      "provenance": [],
      "gpuType": "T4"
    },
    "accelerator": "GPU"
  },
  "nbformat": 4,
  "nbformat_minor": 0
}